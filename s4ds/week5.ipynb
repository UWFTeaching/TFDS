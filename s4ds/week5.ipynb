{
  "cells": [
    {
      "cell_type": "markdown",
      "metadata": {},
      "source": [
        "# More than two samples testing - ANOVA {.unnumbered}\n",
        "\n",
        "At the end of this week, you will be able to:\n",
        "\n",
        "-   Practice with *Python* Basics\n",
        "-   Practice using **NumPy** and **Pandas** libraries\n",
        "-   Write your first *Python* script!\n",
        "\n",
        "## References {.unnumbered}\n",
        "\n",
        "-   *Python Data Science Handbook* [@Jake2016python]. [Free access](https://jakevdp.github.io/PythonDataScienceHandbook/00.00-preface.html){target=\"_blank\"}\n",
        "-   *Think Python* [@Allenpython]. [Free access](https://greenteapress.com/thinkpython2/thinkpython2.pdf){target=\"_blank\"}\n",
        "-   *Data Science and Analytics with Python* [@rogel2018data]\n",
        "\n",
        "## Introduction to Python {.unnumbered}\n",
        "\n",
        "**Python** has emerged over the last recent years as one of the most used tools for data science projects. It is known for code readability and interactive features. Similar to **R**, **Python** is supported by a [large number of packages](https://pypi.org/){target=\"_blank\"} that extend its features and functions. Common packages are, to name few:\n",
        "\n",
        "-   [NumPy](https://numpy.org/doc/stable/){target=\"_blank\"}: provides functions for manipulating arrays\n",
        "-   [Pandas](https://pandas.pydata.org/docs/){target=\"_blank\"}: provides functions for manipulating data frames\n",
        "-   [Matplotlib](https://matplotlib.org/stable/tutorials/index.html){target=\"_blank\"}: provides functions for visualizations and plotting\n",
        "-   [Statsmodels](https://www.statsmodels.org/stable/gettingstarted.html){target=\"_blank\"}: provides functions for statistical models\n",
        "-   [Scikit-learn](https://scikit-learn.org/stable/){target=\"_blank\"}: provides functions for machine learning algorithms\n",
        "\n",
        "## Getting started with Python {.unnumbered}\n",
        "\n",
        "We will use RStudio IDE to run Python but, there are other IDEs that you may want to check for your information such as [Pycharm](https://www.jetbrains.com/pycharm/){target=\"_blank\"}, [Jupyter](https://jupyter.org/){target=\"_blank\"}, and others. We will be using `Python 3`. We will see that there are multiple similarities between R and Python.\n",
        "\n",
        "> **Indentation** refers to the spaces at the beginning of a code line. The indentation in Python is very important.\n",
        "\n",
        "Recordings of this week provide lessons about the following concepts:\n",
        "\n",
        "## Python Basics {.unnumbered}\n",
        "\n",
        "-   Python Variables:\n"
      ],
      "id": "7e351683"
    },
    {
      "cell_type": "code",
      "metadata": {},
      "source": [
        "# This is Python Code\n",
        "print(\"Hello World!\")"
      ],
      "id": "fafaf320",
      "execution_count": null,
      "outputs": []
    },
    {
      "cell_type": "markdown",
      "metadata": {},
      "source": [
        "You can name a variable following these rules:\n",
        "\n",
        "-   One word\n",
        "-   Use only letters, numbers, and the underscore (\\_) character\n",
        "-   Can't begin with a number\n",
        "-   Python is case-sensitive\n"
      ],
      "id": "d5ca2e20"
    },
    {
      "cell_type": "code",
      "metadata": {},
      "source": [
        "x = \"HeyHey\"\n",
        "y = 40\n",
        "x\n",
        "y\n",
        "x, y = \"Hey\", 45 # Assign values to multiple variables\n",
        "print(x)\n",
        "print(y)\n",
        "ranks = [\"first\",\"second\",\"third\"] # list\n",
        "x, y, z = ranks\n",
        "print(ranks)\n",
        "x\n",
        "y\n",
        "z\n",
        "\n",
        "def myf():\n",
        "  x=\"Hello\"\n",
        "  print(x)\n",
        "  \n",
        "myf()\n",
        "\n",
        "def myf():\n",
        "  global x # x to be global - outside the function\n",
        "  x=\"Hello\"\n",
        "  print(x)\n",
        "  \n",
        "myf()"
      ],
      "id": "556a8f73",
      "execution_count": null,
      "outputs": []
    },
    {
      "cell_type": "markdown",
      "metadata": {},
      "source": [
        "Data Types:\n"
      ],
      "id": "00947371"
    },
    {
      "cell_type": "code",
      "metadata": {},
      "source": [
        "x = str(3)    # x will be '3'\n",
        "x = int(3)    # x will be 3\n",
        "x = float(3)  # x is a float - 3.0\n",
        "x = 1j       # x is complex\n",
        "x = range(5,45)    # x is a range type\n",
        "x = [1,2,1,24,54,45,2,1]  # x is a list\n",
        "x = (1,2,1,24,54,45,2,1)  # x is a tuple\n",
        "x = {\"name\" : \"Ach\", \"age\" : 85}  # x is a dict (mapping)"
      ],
      "id": "0245c910",
      "execution_count": null,
      "outputs": []
    },
    {
      "cell_type": "markdown",
      "metadata": {},
      "source": [
        "Math operations:\n"
      ],
      "id": "70e0c2ce"
    },
    {
      "cell_type": "code",
      "metadata": {},
      "source": [
        "5+4   # Addition\n",
        "5*4   # Multiplication\n",
        "5**4  # power / exponent\n",
        "print(\"Hey\"*3) # String operations\n",
        "import math as mt # More more math functions using package *math*\n",
        "mt.cos(556) # cosine function\n",
        "import random # generate random numbers\n",
        "print(random.randrange(1, 10))\n",
        "import numpy as np # generate random numbers\n",
        "print(np.random.normal(loc=0,scale=1,size=2))"
      ],
      "id": "fcf367ee",
      "execution_count": null,
      "outputs": []
    },
    {
      "cell_type": "markdown",
      "metadata": {},
      "source": [
        "Strings operations:\n"
      ],
      "id": "44e2db93"
    },
    {
      "cell_type": "code",
      "metadata": {},
      "source": [
        "word = \"Hello There!\"\n",
        "word[1] # accessing characters in a String\n",
        "for z in word:\n",
        "  print(z)\n",
        "\n",
        "len(word) # strings length\n",
        "\n",
        "\"or\" in word # check if \"or\" is in word\n",
        "word1 = \"Do you use Python or R or both!\"\n",
        "\"or\" in word1 # check if \"or\" is in word1"
      ],
      "id": "4a33a0d1",
      "execution_count": null,
      "outputs": []
    },
    {
      "cell_type": "markdown",
      "metadata": {},
      "source": [
        "Python assignment operators:\n",
        "\n",
        "| Operator | Example    | Results     |\n",
        "|----------|------------|-------------|\n",
        "| =        | x = 10     | x = 10      |\n",
        "| +=       | x += 10    | x = x+10    |\n",
        "| -=       | x -= 10    | x = x-10    |\n",
        "| \\*=      | x \\*= 10   | x = x\\*10   |\n",
        "| /=       | x /= 10    | x = x/10    |\n",
        "| %=       | x %= 10    | x = x%10    |\n",
        "| \\*\\*=    | x \\*\\*= 10 | x = x\\*\\*10 |\n",
        "|          |            |             |\n",
        "\n",
        "If-Else Statements:\n"
      ],
      "id": "43fbf995"
    },
    {
      "cell_type": "code",
      "metadata": {},
      "source": [
        "h = 2\n",
        "if h > 2:\n",
        " print(\"Yes!\") # indentation very important other ERROR\n",
        "elif h > 50:\n",
        " print(\"Yes Yes!\")\n",
        "else:\n",
        "  print(\"No\")"
      ],
      "id": "bb86d821",
      "execution_count": null,
      "outputs": []
    },
    {
      "cell_type": "markdown",
      "metadata": {},
      "source": [
        "For Loop Statements:\n"
      ],
      "id": "5858d053"
    },
    {
      "cell_type": "code",
      "metadata": {},
      "source": [
        "for k in range(1,10): \n",
        "  print(str(k)) # does not show up 10; goes up to 9\n"
      ],
      "id": "a024531e",
      "execution_count": null,
      "outputs": []
    },
    {
      "cell_type": "markdown",
      "metadata": {},
      "source": [
        "## Python Numpy {.unnumbered}\n",
        "\n",
        "`NumPy` is a Python library. It stands for Numerical Python and very useful for manipulating arrays. It is faster than using Lists and quite useful for machine learning applications.\n"
      ],
      "id": "1cd1a18a"
    },
    {
      "cell_type": "code",
      "metadata": {},
      "source": [
        "import numpy # this code import NumPy library\n",
        "arr1 =  numpy.array([1,2,45,564,98]) # create array using NumPy\n",
        "print(arr1)"
      ],
      "id": "36f06b42",
      "execution_count": null,
      "outputs": []
    },
    {
      "cell_type": "markdown",
      "metadata": {},
      "source": [
        "Usually, we give a Library an **alias** such as `np` for the NumPy library. Array objects in NumPy are called `ndarray`. We can pass any array (list, tuple, etc.) to the function `array()`:\n"
      ],
      "id": "d198416e"
    },
    {
      "cell_type": "code",
      "metadata": {},
      "source": [
        "import numpy as np\n",
        "arr1 = np.array([1,2,45,564,98])\n",
        "print(arr1)\n",
        "\n",
        "# Multidimensional arrays!\n",
        "d0 = np.array(56)\n",
        "d1 = np.array([15, 52, 83, 84, 55])\n",
        "d2 = np.array([[1, 2, 3], [4, 5, 6]])\n",
        "d3 = np.array([[[1, 2, 3], [4, 5, 6]], [[11, 21, 31], [41, 51, 61]]])\n",
        "\n",
        "print(d0.ndim) # print dimension\n",
        "print(d1.ndim)\n",
        "print(d2.ndim)\n",
        "print(d3.ndim)"
      ],
      "id": "86e31d12",
      "execution_count": null,
      "outputs": []
    },
    {
      "cell_type": "markdown",
      "metadata": {},
      "source": [
        "Array Indexing:\n"
      ],
      "id": "02c499b6"
    },
    {
      "cell_type": "code",
      "metadata": {},
      "source": [
        "import numpy as np\n",
        "\n",
        "D2 = np.array([[1,2,3,4,5], [6,7,8,9,10]], dtype=float)\n",
        "\n",
        "print('4th element on 1st dim: ', D2[0, 3])\n",
        "print('4th element on 2nd dim: ', D2[1, 3])\n",
        "print('1st dim: ', D2[0, :])\n",
        "\n",
        "arr = np.array([1, 2, 3, 4, 5, 6, 7])\n",
        "\n",
        "print(\"From the start to index 2 (not included): \", arr[:2])\n",
        "print(\"From the index 2 (included) to the end: \", arr[2:])"
      ],
      "id": "29d4152f",
      "execution_count": null,
      "outputs": []
    },
    {
      "cell_type": "markdown",
      "metadata": {},
      "source": [
        "Arithmetic operations and Math/Stat functions:\n"
      ],
      "id": "aa155504"
    },
    {
      "cell_type": "code",
      "metadata": {},
      "source": [
        "import numpy as np\n",
        "\n",
        "a = np.array([[1,2,3,4,5], [6,7,8,9,10]], dtype=\"f\")\n",
        "b = np.array([[10,20,30,40,50], [60,70,80,90,100]], dtype=\"i\")\n",
        "\n",
        "np.subtract(b,a) # b-a\n",
        "np.add(b,a) # b+a\n",
        "np.divide(b,a) # b/a\n",
        "np.multiply(b,a) # b*a\n",
        "np.exp(a) # exponential function\n",
        "np.log(a) # natural logarithm function\n",
        "np.sqrt(a) # square root function\n",
        "np.full((3,3),5) # 3x3 constant array\n",
        "a.mean() # mean \n",
        "a.std() # standard deviation\n",
        "a.var() # variance\n",
        "a.mean(axis=0) # mean across axis 0 (rows)\n",
        "np.median(a) # median \n",
        "np.median(a,axis=0) # median "
      ],
      "id": "2fafad02",
      "execution_count": null,
      "outputs": []
    },
    {
      "cell_type": "markdown",
      "metadata": {},
      "source": [
        "Random numbers generation:\n",
        "\n",
        "**Random** is a module in `NumPy` to offer functions to work with random numbers.\n"
      ],
      "id": "3f1e2242"
    },
    {
      "cell_type": "code",
      "metadata": {},
      "source": [
        "from numpy import random\n",
        "\n",
        "x = random.randint(100) # a random integer from 0 to 100\n",
        "print(x)\n",
        "\n",
        "x = random.rand(10) # 10 random numbers float from 0 to 1\n",
        "print(x)\n",
        "\n",
        "x = random.randint(100,size=(10)) # 10 random integers from 0 to 100\n",
        "print(x)\n",
        "\n",
        "x = random.randint(100,size=(10,10)) # 10x10 random integers from 0 to 100\n",
        "print(x)\n",
        "\n",
        "x = random.choice([100,12,0,45]) # sample one value from an array\n",
        "print(x)\n",
        "\n",
        "x = random.choice([100,12,0,45],size=(10)) # sample one value from an array\n",
        "print(x)\n",
        "\n",
        "x = random.choice([100, 12, 0, 45], p=[0.1, 0.3, 0.6, 0.0], size=(10)) # Probability sampling\n",
        "print(x)\n",
        "\n",
        "x = random.normal(loc=1, scale=0.5, size=(10)) # Normal distribution\n",
        "print(x)\n",
        "\n",
        "x = random.normal(loc=1, scale=0.5, size=(10)) # Normal distribution\n",
        "print(x)"
      ],
      "id": "b743d5a5",
      "execution_count": null,
      "outputs": []
    },
    {
      "cell_type": "markdown",
      "metadata": {},
      "source": [
        "📚 For more reading visit [Introduction to NumPy](https://jakevdp.github.io/PythonDataScienceHandbook/02.00-introduction-to-numpy.html){target=\"_blank\"}.\n",
        "\n",
        "## Python Pandas {.unnumbered}\n",
        "\n",
        "`Pandas` is a Python library. It is useful for data wrangling and working with data sets. `Pandas` refers to both *Panel Data* and *Python Data Analysis*. This is a handy [Cheat Sheet for Pandas](https://pandas.pydata.org/Pandas_Cheat_Sheet.pdf){target=\"_blank\"} for data wrangling.\n"
      ],
      "id": "e2cd12de"
    },
    {
      "cell_type": "code",
      "metadata": {},
      "source": [
        "import pandas as pd\n",
        "\n",
        "a = [1,6,8]\n",
        "series = pd.Series(a) # this is a panda series\n",
        "print(series)\n",
        "\n",
        "mydata = {\n",
        "  \"calories\": [1000, 690, 190],\n",
        "  \"duration\": [50, 40, 20]\n",
        "}\n",
        "mydataframe = pd.DataFrame(mydata) # data frame\n",
        "mydataframe"
      ],
      "id": "d50945a7",
      "execution_count": null,
      "outputs": []
    },
    {
      "cell_type": "markdown",
      "metadata": {},
      "source": [
        "Read CSV Files\n",
        "\n",
        "CSV files are a simple way to store large data sets. Data Frame Pandas can read CSV files easily:\n"
      ],
      "id": "c8c9757b"
    },
    {
      "cell_type": "code",
      "metadata": {},
      "source": [
        "import pandas as pd\n",
        "import numpy as np\n",
        "\n",
        "df = pd.read_csv(\"../datasets/mycars.csv\")\n",
        "print(df.info()) # Info about Data\n",
        "\n",
        "df.head()\n",
        "\n",
        "df.loc[3,\"speed\"] = np.NaN # insert NaN in the row 10 in speed column\n",
        "df.head()\n",
        "\n",
        "newdf = df.dropna() # drop NA cells\n",
        "newdf.head()\n",
        "\n",
        "df.dropna(inplace = True) # drop NA cells and replace \"df\" with the new data\n",
        "df.head()\n",
        "\n",
        "df = pd.read_csv(\"../datasets/mycars.csv\")\n",
        "df.fillna(100, inplace = True) # replace NA values with 100.\n",
        "\n",
        "df[\"speed\"].fillna(10, inplace = True) # replace NA values with 10 only in column \"speed\"\n",
        "\n",
        "x = df[\"speed\"].mean() # find mean of speed\n",
        "df[\"speed\"].fillna(x, inplace = True) # replace NA values with mean only in column \"speed\"\n",
        "\n",
        "\n",
        "print(df.duplicated().head()) # show duplicates\n",
        "df.drop_duplicates().head() # drop duplicates\n"
      ],
      "id": "9862d9c7",
      "execution_count": null,
      "outputs": []
    },
    {
      "cell_type": "markdown",
      "metadata": {},
      "source": [
        "🛎 🎙️ Recordings on Canvas will cover more details and examples! Have fun learning and coding 😃! Let me know how I can help!\n",
        "\n",
        "## 📚 👈 Assignments - Python Basics {.unnumbered}\n",
        "\n",
        "Instructions are posted on Canvas."
      ],
      "id": "602241c2"
    }
  ],
  "metadata": {
    "kernelspec": {
      "name": "python3",
      "language": "python",
      "display_name": "Python 3 (ipykernel)"
    }
  },
  "nbformat": 4,
  "nbformat_minor": 5
}